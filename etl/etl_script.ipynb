{
 "cells": [
  {
   "cell_type": "code",
   "execution_count": null,
   "id": "994eaf6a-4bf0-4eb4-a3e3-10515b393163",
   "metadata": {},
   "outputs": [],
   "source": [
    "'''\n",
    "Script para carregar e tratar os dados da base da Olist \n",
    "Link: https://www.kaggle.com/datasets/olistbr/brazilian-ecommerce\n",
    "'''"
   ]
  },
  {
   "cell_type": "code",
   "execution_count": 1,
   "id": "dd7f4725-66af-4e53-942d-89e18ebedf56",
   "metadata": {},
   "outputs": [
    {
     "name": "stdout",
     "output_type": "stream",
     "text": [
      "Requirement already satisfied: kagglehub in c:\\users\\renan\\anaconda3\\lib\\site-packages (0.3.12)\n",
      "Requirement already satisfied: packaging in c:\\users\\renan\\anaconda3\\lib\\site-packages (from kagglehub) (24.1)\n",
      "Requirement already satisfied: pyyaml in c:\\users\\renan\\anaconda3\\lib\\site-packages (from kagglehub) (6.0.1)\n",
      "Requirement already satisfied: requests in c:\\users\\renan\\anaconda3\\lib\\site-packages (from kagglehub) (2.32.3)\n",
      "Requirement already satisfied: tqdm in c:\\users\\renan\\anaconda3\\lib\\site-packages (from kagglehub) (4.66.5)\n",
      "Requirement already satisfied: charset-normalizer<4,>=2 in c:\\users\\renan\\anaconda3\\lib\\site-packages (from requests->kagglehub) (3.3.2)\n",
      "Requirement already satisfied: idna<4,>=2.5 in c:\\users\\renan\\anaconda3\\lib\\site-packages (from requests->kagglehub) (3.7)\n",
      "Requirement already satisfied: urllib3<3,>=1.21.1 in c:\\users\\renan\\anaconda3\\lib\\site-packages (from requests->kagglehub) (2.2.3)\n",
      "Requirement already satisfied: certifi>=2017.4.17 in c:\\users\\renan\\anaconda3\\lib\\site-packages (from requests->kagglehub) (2024.8.30)\n",
      "Requirement already satisfied: colorama in c:\\users\\renan\\anaconda3\\lib\\site-packages (from tqdm->kagglehub) (0.4.6)\n"
     ]
    }
   ],
   "source": [
    "# Install\n",
    "!pip install kagglehub"
   ]
  },
  {
   "cell_type": "code",
   "execution_count": 11,
   "id": "5939486d-2e0e-4921-ad44-45411c076888",
   "metadata": {},
   "outputs": [
    {
     "name": "stdout",
     "output_type": "stream",
     "text": [
      "Collecting pymysql\n",
      "  Downloading PyMySQL-1.1.1-py3-none-any.whl.metadata (4.4 kB)\n",
      "Downloading PyMySQL-1.1.1-py3-none-any.whl (44 kB)\n",
      "Installing collected packages: pymysql\n",
      "Successfully installed pymysql-1.1.1\n"
     ]
    }
   ],
   "source": [
    "!pip install pymysql"
   ]
  },
  {
   "cell_type": "code",
   "execution_count": 1,
   "id": "493f66ce-359d-4748-9aea-fc94fa1c6633",
   "metadata": {},
   "outputs": [],
   "source": [
    "# Importação de bibliotecas\n",
    "import kagglehub\n",
    "import pandas as pd\n",
    "import pandas as pd\n",
    "from sqlalchemy import create_engine\n",
    "from kaggle.api.kaggle_api_extended import KaggleApi"
   ]
  },
  {
   "cell_type": "code",
   "execution_count": 5,
   "id": "cc0051b9-40ce-41d5-88b6-207e059ffd21",
   "metadata": {},
   "outputs": [],
   "source": [
    "# Chamando API e autenticando\n",
    "api = KaggleApi()\n",
    "api.authenticate()"
   ]
  },
  {
   "cell_type": "code",
   "execution_count": 13,
   "id": "1f9c8f07-be6d-4194-b5b7-a1a61c1f9510",
   "metadata": {},
   "outputs": [
    {
     "name": "stdout",
     "output_type": "stream",
     "text": [
      "Downloading from https://www.kaggle.com/api/v1/datasets/download/olistbr/brazilian-ecommerce?dataset_version_number=2...\n"
     ]
    },
    {
     "name": "stderr",
     "output_type": "stream",
     "text": [
      "100%|█████████████████████████████████████████████████████████████████████████████| 42.6M/42.6M [00:03<00:00, 11.5MB/s]"
     ]
    },
    {
     "name": "stdout",
     "output_type": "stream",
     "text": [
      "Extracting files...\n"
     ]
    },
    {
     "name": "stderr",
     "output_type": "stream",
     "text": [
      "\n"
     ]
    },
    {
     "name": "stdout",
     "output_type": "stream",
     "text": [
      "Path to dataset files: C:\\Users\\renan\\.cache\\kagglehub\\datasets\\olistbr\\brazilian-ecommerce\\versions\\2\n"
     ]
    }
   ],
   "source": [
    "# Download da base de dados \n",
    "path = kagglehub.dataset_download(\"olistbr/brazilian-ecommerce\")\n",
    "print(\"Path to dataset files:\", path)"
   ]
  },
  {
   "cell_type": "code",
   "execution_count": 3,
   "id": "4e4b34e8-7d10-455f-80df-8281cfb855c2",
   "metadata": {},
   "outputs": [],
   "source": [
    "# Leitura de todas as tabelas da base de dados\n",
    "customer = pd.read_csv('olist_customers_dataset.csv')\n",
    "geolocation = pd.read_csv('olist_geolocation_dataset.csv')\n",
    "items = pd.read_csv('olist_order_items_dataset.csv')\n",
    "payments = pd.read_csv('olist_order_payments_dataset.csv')\n",
    "reviews = pd.read_csv('olist_order_reviews_dataset.csv')\n",
    "orders = pd.read_csv('olist_orders_dataset.csv')\n",
    "products = pd.read_csv('olist_products_dataset.csv')\n",
    "sellers = pd.read_csv('olist_sellers_dataset.csv')\n",
    "product_category = pd.read_csv('product_category_name_translation.csv')"
   ]
  },
  {
   "cell_type": "code",
   "execution_count": 4,
   "id": "e871776c-7ff7-4e37-8ab3-abfd7c582fb2",
   "metadata": {},
   "outputs": [],
   "source": [
    "# TRATAMENTO DO DATAFRAME ORDERS\n",
    "\n",
    "# Transformando todas a colunas de data para o formato datetime\n",
    "orders['order_purchase_timestamp']      = pd.to_datetime(orders['order_purchase_timestamp'])\n",
    "orders['order_approved_at']             = pd.to_datetime(orders['order_approved_at'])\n",
    "orders['order_delivered_carrier_date']  = pd.to_datetime(orders['order_delivered_carrier_date'])\n",
    "orders['order_delivered_customer_date'] = pd.to_datetime(orders['order_delivered_customer_date'])\n",
    "orders['order_estimated_delivery_date'] = pd.to_datetime(orders['order_estimated_delivery_date'])\n",
    "\n",
    "# Confirmando se todos os horários da coluna order_estimated_delivery_date são iguais\n",
    "orders['order_estimated_delivery_date'].dt.time.unique()\n",
    "\n",
    "# Alterando os nomes das colunas \n",
    "orders.rename(columns={'order_purchase_timestamp': 'order_purchase_date_time'}, inplace=True)\n",
    "orders.rename(columns={'order_approved_at': 'order_approved_at_date_time'}, inplace=True)\n",
    "orders.rename(columns={'order_delivered_carrier_date': 'order_delivered_carrier_date_time'}, inplace=True)\n",
    "orders.rename(columns={'order_delivered_customer_date': 'order_delivered_customer_date_time'}, inplace=True)\n",
    "\n",
    "# Criando colunas de Data\n",
    "orders['order_purchase_date']           = orders['order_purchase_date_time'].dt.date\n",
    "orders['order_approved_at_date']        = orders['order_approved_at_date_time'].dt.date\n",
    "orders['order_delivered_carrier_date']  = orders['order_delivered_carrier_date_time'].dt.date\n",
    "orders['order_delivered_customer_date'] = orders['order_delivered_customer_date_time'].dt.date\n",
    "\n",
    "# Calculo do tempo de entrega\n",
    "orders['delivery_days'] =  orders['order_delivered_customer_date'] - orders['order_purchase_date']\n",
    "\n",
    "# Flag de pedidos atrasados\n",
    "orders['late_order'] =  orders['order_delivered_customer_date'] > orders['order_estimated_delivery_date']"
   ]
  },
  {
   "cell_type": "code",
   "execution_count": 5,
   "id": "7b5977c3-01d0-447c-97cc-b569f1bc4c66",
   "metadata": {},
   "outputs": [],
   "source": [
    "# TRATAMENTO DO DATAFRAME PRODUCTS\n",
    "\n",
    "#Check de nulos\n",
    "#display(products[products['product_category_name'].isnull()])\n",
    "\n",
    "#Preenchendo nulos\n",
    "products['product_category_name'] = products['product_category_name'].fillna('Outros')\n",
    "\n",
    "#Alteração do tipo objeto para string\n",
    "for col in products.select_dtypes(include = 'object').columns:\n",
    "    products[col] = products[col].apply(lambda x: str(x) if pd.notnull(x) else None)\n",
    "\n",
    "#Outras formas de fazer:  \n",
    "    #products['product_id'] = products['product_id'].astype(str)\n",
    "    #products['product_category_name'] = products['product_category_name'].astype(str)"
   ]
  },
  {
   "cell_type": "code",
   "execution_count": 6,
   "id": "abdaa997-5130-435d-8499-73b406c954e1",
   "metadata": {},
   "outputs": [],
   "source": [
    "# TRATAMENTO DO DATAFRAME CUSTOMER\n",
    "\n",
    "#Verificando duplicidades de customer_unique_id\n",
    "customer_id_duplicados = customer.groupby('customer_unique_id')['customer_id'].count().reset_index(name='quantidade')\n",
    "customer_id_duplicados[customer_id_duplicados['quantidade'] > 1]\n",
    "\n",
    "#Exclusão dos casos duplicados com menor frquência de ocorrência \n",
    "df_customer = (\n",
    "    customer.groupby(['customer_unique_id', 'customer_id'])\n",
    "    .size()\n",
    "    .reset_index(name='frequencia')\n",
    "    .sort_values(['customer_unique_id', 'frequencia'], ascending=[True, False])\n",
    "    .drop_duplicates(subset='customer_unique_id')\n",
    ")\n",
    "\n",
    "customer = customer[customer['customer_id'].isin(df_customer['customer_id']) ]"
   ]
  },
  {
   "cell_type": "code",
   "execution_count": 8,
   "id": "4f89f376-0b66-42a8-b423-24b45a57c7e7",
   "metadata": {},
   "outputs": [
    {
     "data": {
      "text/html": [
       "<div>\n",
       "<style scoped>\n",
       "    .dataframe tbody tr th:only-of-type {\n",
       "        vertical-align: middle;\n",
       "    }\n",
       "\n",
       "    .dataframe tbody tr th {\n",
       "        vertical-align: top;\n",
       "    }\n",
       "\n",
       "    .dataframe thead th {\n",
       "        text-align: right;\n",
       "    }\n",
       "</style>\n",
       "<table border=\"1\" class=\"dataframe\">\n",
       "  <thead>\n",
       "    <tr style=\"text-align: right;\">\n",
       "      <th></th>\n",
       "      <th>product_category_name</th>\n",
       "      <th>product_category_name_english</th>\n",
       "    </tr>\n",
       "  </thead>\n",
       "  <tbody>\n",
       "  </tbody>\n",
       "</table>\n",
       "</div>"
      ],
      "text/plain": [
       "Empty DataFrame\n",
       "Columns: [product_category_name, product_category_name_english]\n",
       "Index: []"
      ]
     },
     "metadata": {},
     "output_type": "display_data"
    },
    {
     "name": "stdout",
     "output_type": "stream",
     "text": [
      "product_category_name\n",
      "<class 'str'>    71\n",
      "Name: count, dtype: int64\n"
     ]
    }
   ],
   "source": [
    "#TRATAMENTO DO DATAFRAME PRODUCT_CATEGORY_NAME\n",
    "\n",
    "#Check de nulos\n",
    "display(product_category[product_category['product_category_name'].isnull()])\n",
    "\n",
    "#Alteração do tipo objeto para string\n",
    "for col in product_category.select_dtypes(include = 'object').columns:\n",
    "    product_category[col] = product_category[col].apply(lambda x: str(x) if pd.notnull(x) else None)\n",
    "\n",
    "#Conferindo a mudança feita acima: \n",
    "print(product_category['product_category_name'].apply(type).value_counts())"
   ]
  },
  {
   "cell_type": "code",
   "execution_count": 9,
   "id": "73eabfd7-1f95-466f-bfe3-b384cb15088a",
   "metadata": {},
   "outputs": [],
   "source": [
    "#TRATAMENTO DO DATAFRAME SELLERS\n",
    "\n",
    "#Alteração do tipo objeto para string\n",
    "for col in sellers.select_dtypes(include = 'object').columns:\n",
    "    sellers[col] = sellers[col].apply(lambda x: str(x) if pd.notnull(x) else None)"
   ]
  },
  {
   "cell_type": "code",
   "execution_count": 20,
   "id": "62512bed-8ea7-46d9-a479-01f10c23456e",
   "metadata": {},
   "outputs": [],
   "source": [
    "# Configurar conexão com MySQL\n",
    "usuario = 'root'\n",
    "senha = '....'\n",
    "host = 'localhost'\n",
    "porta = '3306'\n",
    "banco = 'olist'\n",
    "\n",
    "# Criando a engine de conexão\n",
    "engine = create_engine(f'mysql+pymysql://{usuario}:{senha}@{host}:{porta}/{banco}')"
   ]
  },
  {
   "cell_type": "code",
   "execution_count": 24,
   "id": "861967ef-3adb-4904-8ed1-01d143bbf02a",
   "metadata": {},
   "outputs": [
    {
     "data": {
      "text/plain": [
       "3095"
      ]
     },
     "execution_count": 24,
     "metadata": {},
     "output_type": "execute_result"
    }
   ],
   "source": [
    "#Inclui tabelas no banco criado acima\n",
    "customer.to_sql('customer', engine, if_exists='replace', index=False)\n",
    "geolocation.to_sql('geolocation', engine, if_exists='replace', index=False)\n",
    "items.to_sql('items', engine, if_exists='replace', index=False)\n",
    "payments.to_sql('payments', engine, if_exists='replace', index=False)\n",
    "reviews.to_sql('reviews', engine, if_exists='replace', index=False)\n",
    "orders.to_sql('orders', engine, if_exists='replace', index=False)\n",
    "products.to_sql('products', engine, if_exists='replace', index=False)\n",
    "sellers.to_sql('sellers', engine, if_exists='replace', index=False)\n",
    "product_category.to_sql('product_category', engine, if_exists='replace', index=False)\n"
   ]
  }
 ],
 "metadata": {
  "kernelspec": {
   "display_name": "Python 3 (ipykernel)",
   "language": "python",
   "name": "python3"
  },
  "language_info": {
   "codemirror_mode": {
    "name": "ipython",
    "version": 3
   },
   "file_extension": ".py",
   "mimetype": "text/x-python",
   "name": "python",
   "nbconvert_exporter": "python",
   "pygments_lexer": "ipython3",
   "version": "3.12.7"
  }
 },
 "nbformat": 4,
 "nbformat_minor": 5
}
